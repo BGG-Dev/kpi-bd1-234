{
 "cells": [
  {
   "cell_type": "code",
   "execution_count": 1,
   "metadata": {},
   "outputs": [],
   "source": [
    "from pandas import *"
   ]
  },
  {
   "attachments": {},
   "cell_type": "markdown",
   "metadata": {},
   "source": [
    "Checking initial files for data integrity:"
   ]
  },
  {
   "cell_type": "code",
   "execution_count": 2,
   "metadata": {},
   "outputs": [
    {
     "name": "stdout",
     "output_type": "stream",
     "text": [
      "True\n",
      "True\n",
      "True\n"
     ]
    }
   ],
   "source": [
    "# reading users id column from users\n",
    "users_id = read_csv(\"./kaggle-csv/users.csv\")[\"id\"].values.tolist()\n",
    "\n",
    "# reading user_creator_id column from posts\n",
    "posts = read_csv(\"./kaggle-csv/posts.csv\")\n",
    "posts_id = posts[\"id\"].values.tolist()\n",
    "posts_user_creator_id = posts[\"user_creator_id\"].values.tolist()\n",
    "\n",
    "# reading comments data for check integrity\n",
    "comments = read_csv(\"./kaggle-csv/comments.csv\")\n",
    "comments_post_id = comments[\"post_id\"].values.tolist()\n",
    "comments_user_creator_id = comments[\"user_creator_id\"].values.tolist()\n",
    "\n",
    "# set conversion\n",
    "s_users_id = set(users_id)\n",
    "s_posts_id = set(posts_id)\n",
    "s_posts_user_creator_id = set(posts_user_creator_id)\n",
    "s_comments_post_id = set(comments_post_id)\n",
    "s_comments_user_creator_id = set(comments_user_creator_id)\n",
    "\n",
    "# checking\n",
    "print(s_posts_user_creator_id.issubset(s_users_id))\n",
    "print(s_comments_user_creator_id.issubset(s_users_id))\n",
    "print(s_comments_post_id.issubset(s_posts_id))"
   ]
  },
  {
   "attachments": {},
   "cell_type": "markdown",
   "metadata": {},
   "source": [
    "Editing votes:\n",
    "1) Replacing vote_type_id with my values [1, 5]\n",
    "2) Adding user_voter_id column"
   ]
  },
  {
   "cell_type": "code",
   "execution_count": 3,
   "metadata": {},
   "outputs": [],
   "source": [
    "import random\n",
    "\n",
    "# reading votes\n",
    "votes = read_csv(\"./kaggle-csv/votes.csv\")\n",
    "\n",
    "# replacing vote_type_id with my values [1, 5]\n",
    "votes[\"vote_type_id\"] = votes[\"vote_type_id\"].map(lambda a: random.randint(1, 5))\n",
    "\n",
    "# adding user_voter_id to votes\n",
    "votes[\"user_voter_id\"] = [int(random.sample(list(s_users_id), 1)[0]) for i in range(len(votes.index))]\n",
    "votes.insert(1, \"user_voter_id\", votes.pop(\"user_voter_id\"))\n",
    "\n",
    "# exporting edited votes\n",
    "votes.to_csv(\"./final-csv/votes.csv\", index = False)"
   ]
  },
  {
   "attachments": {},
   "cell_type": "markdown",
   "metadata": {},
   "source": [
    "Generating votes_posts"
   ]
  },
  {
   "cell_type": "code",
   "execution_count": 4,
   "metadata": {},
   "outputs": [],
   "source": [
    "# Calculating votes for posts count | votes for comments count \n",
    "# votes for posts count + votes for comments count = total votes count\n",
    "votes_total_count = 1451\n",
    "votes_for_posts_count = 322\n",
    "votes_for_comments_count = 1451 - votes_for_posts_count "
   ]
  },
  {
   "cell_type": "code",
   "execution_count": 5,
   "metadata": {},
   "outputs": [],
   "source": [
    "# getting list of votes for posts\n",
    "votes_id = votes[\"id\"].values.tolist()\n",
    "\n",
    "# creating votes_posts dataframe\n",
    "votes_posts = DataFrame()\n",
    "\n",
    "# generating votes_posts data\n",
    "votes_posts[\"vote_id\"] = votes_id[0:votes_for_posts_count:1]\n",
    "votes_posts[\"post_id\"] = [int(random.sample(list(s_posts_id), 1)[0]) for i in range(votes_for_posts_count)]\n",
    "\n",
    "# export votes_posts\n",
    "votes_posts.to_csv(\"./final-csv/votes_posts.csv\", index = False)"
   ]
  },
  {
   "attachments": {},
   "cell_type": "markdown",
   "metadata": {},
   "source": [
    "Generating votes_comments"
   ]
  },
  {
   "cell_type": "code",
   "execution_count": 6,
   "metadata": {},
   "outputs": [],
   "source": [
    "# creating votes_comments dataframe\n",
    "votes_comments = DataFrame()\n",
    "\n",
    "# generating votes_comments data\n",
    "s_comments_id = set(comments[\"id\"].values.tolist())\n",
    "votes_comments[\"vote_id\"] = votes_id[votes_for_posts_count:votes_total_count:1]\n",
    "votes_comments[\"comment_id\"] = [int(random.sample(list(s_comments_id), 1)[0]) for i in range(votes_for_comments_count)]\n",
    "\n",
    "# export votes_comments\n",
    "votes_comments.to_csv(\"./final-csv/votes_comments.csv\", index = False)"
   ]
  },
  {
   "attachments": {},
   "cell_type": "markdown",
   "metadata": {},
   "source": [
    "Final data check"
   ]
  },
  {
   "cell_type": "code",
   "execution_count": 7,
   "metadata": {},
   "outputs": [
    {
     "name": "stdout",
     "output_type": "stream",
     "text": [
      "True\n",
      "True\n",
      "True\n",
      "True\n",
      "True\n",
      "True\n",
      "True\n"
     ]
    }
   ],
   "source": [
    "print(set(votes[\"user_voter_id\"].values.tolist()).issubset(s_users_id))\n",
    "print(set(votes[\"vote_type_id\"].values.tolist()) == {1, 2, 3, 4, 5})\n",
    "print(set(votes_posts[\"post_id\"].values.tolist()).issubset(s_posts_id))\n",
    "print(set(votes_posts[\"vote_id\"].values.tolist()).issubset(set(votes[\"id\"].values.tolist())))\n",
    "print(set(votes_comments[\"comment_id\"].values.tolist()).issubset(s_comments_id))\n",
    "print(set(votes_comments[\"vote_id\"].values.tolist()).issubset(set(votes[\"id\"].values.tolist())))\n",
    "print(set(votes_posts[\"vote_id\"].values.tolist()).intersection(set(votes_comments[\"vote_id\"].values.tolist())) == set())"
   ]
  }
 ],
 "metadata": {
  "kernelspec": {
   "display_name": "Python 3",
   "language": "python",
   "name": "python3"
  },
  "language_info": {
   "codemirror_mode": {
    "name": "ipython",
    "version": 3
   },
   "file_extension": ".py",
   "mimetype": "text/x-python",
   "name": "python",
   "nbconvert_exporter": "python",
   "pygments_lexer": "ipython3",
   "version": "3.11.1"
  },
  "orig_nbformat": 4,
  "vscode": {
   "interpreter": {
    "hash": "b8c4c4c17ef42f0b497cca2e3a861e6b7e43e2754bb263a959e3769dbfc7573c"
   }
  }
 },
 "nbformat": 4,
 "nbformat_minor": 2
}
